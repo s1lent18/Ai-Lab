{
  "nbformat": 4,
  "nbformat_minor": 0,
  "metadata": {
    "colab": {
      "provenance": []
    },
    "kernelspec": {
      "name": "python3",
      "display_name": "Python 3"
    },
    "language_info": {
      "name": "python"
    }
  },
  "cells": [
    {
      "cell_type": "code",
      "execution_count": 11,
      "metadata": {
        "colab": {
          "base_uri": "https://localhost:8080/"
        },
        "id": "bVBk4lewwLUs",
        "outputId": "dfe09845-2b25-4263-9073-479285f1b9b8"
      },
      "outputs": [
        {
          "output_type": "stream",
          "name": "stdout",
          "text": [
            "Probability of even number: 0.5\n",
            "Probability of number greater than 4: 0.3333333333333333\n",
            "Probability of number less than 3: 0.3333333333333333\n",
            "Probability of sum of dice >= 7: 0.5833333333333334\n",
            "Probability of sum exactly 8: 0.1388888888888889\n",
            "Probability of second die odd given first die > 4: 0.5\n"
          ]
        }
      ],
      "source": [
        "def probabilityEven():\n",
        "    evenNumbers = [2, 4, 6]\n",
        "    totalOutcomes = 6\n",
        "    return len(evenNumbers) / totalOutcomes\n",
        "\n",
        "def probabilityGreaterThan4():\n",
        "    numbersGreaterThan4 = [5, 6]\n",
        "    totalOutcomes = 6\n",
        "    return len(numbersGreaterThan4) / totalOutcomes\n",
        "\n",
        "def probabilityLessThan3():\n",
        "    numbersLessThan3 = [1, 2]\n",
        "    totalOutcomes = 6\n",
        "    return len(numbersLessThan3) / totalOutcomes\n",
        "\n",
        "def probabilitySumGreaterThanOrEqualTo7():\n",
        "    favorableSums = [(1, 6), (2, 5), (3, 4), (4, 3), (5, 2), (6, 1),\n",
        "                     (2, 6), (3, 5), (4, 4), (5, 3), (6, 2),\n",
        "                     (3, 6), (4, 5), (5, 4), (6, 3),\n",
        "                     (4, 6), (5, 5), (6, 4),\n",
        "                     (5, 6), (6, 5), (6, 6)]\n",
        "    totalOutcomes = 36\n",
        "    return len(favorableSums) / totalOutcomes\n",
        "\n",
        "def probabilitySumExactly8():\n",
        "    favorableSums = [(2, 6), (3, 5), (4, 4), (5, 3), (6, 2)]\n",
        "    totalOutcomes = 36\n",
        "    return len(favorableSums) / totalOutcomes\n",
        "\n",
        "def probabilitySecondDieOddGivenFirstDieGreaterThan4():\n",
        "    favorableOutcomes = [1, 3, 5]\n",
        "    totalOutcomes = 6\n",
        "    return len(favorableOutcomes) / totalOutcomes\n",
        "\n",
        "print(f\"Probability of even number: {probabilityEven()}\")\n",
        "print(f\"Probability of number greater than 4: {probabilityGreaterThan4()}\")\n",
        "print(f\"Probability of number less than 3: {probabilityLessThan3()}\")\n",
        "print(f\"Probability of sum of dice >= 7: {probabilitySumGreaterThanOrEqualTo7()}\")\n",
        "print(f\"Probability of sum exactly 8: {probabilitySumExactly8()}\")\n",
        "print(f\"Probability of second die odd given first die > 4: {probabilitySecondDieOddGivenFirstDieGreaterThan4()}\")\n"
      ]
    },
    {
      "cell_type": "code",
      "source": [
        "def probabilityRedCard():\n",
        "    redCards = 26\n",
        "    totalCards = 52\n",
        "    return redCards / totalCards\n",
        "\n",
        "def probabilityHeartGivenRedCard():\n",
        "    hearts = 13\n",
        "    redCards = 26\n",
        "    return hearts / redCards\n",
        "\n",
        "def probabilityDiamondGivenFaceCard():\n",
        "    faceCards = 12\n",
        "    diamonds = 3\n",
        "    return diamonds / faceCards\n",
        "\n",
        "def probabilitySpadeOrQueenGivenFaceCard():\n",
        "    faceCards = 12\n",
        "    spades = 3\n",
        "    queens = 4\n",
        "    return (spades + queens) / faceCards\n",
        "\n",
        "print(f\"Probability of drawing a red card: {probabilityRedCard()}\")\n",
        "print(f\"Probability of heart given red card: {probabilityHeartGivenRedCard()}\")\n",
        "print(f\"Probability of diamond given face card: {probabilityDiamondGivenFaceCard()}\")\n",
        "print(f\"Probability of spade or queen given face card: {probabilitySpadeOrQueenGivenFaceCard()}\")"
      ],
      "metadata": {
        "colab": {
          "base_uri": "https://localhost:8080/"
        },
        "id": "B4YZJtSVLAUX",
        "outputId": "368a269d-d495-48f5-f10c-2847e30b64b2"
      },
      "execution_count": 12,
      "outputs": [
        {
          "output_type": "stream",
          "name": "stdout",
          "text": [
            "Probability of drawing a red card: 0.5\n",
            "Probability of heart given red card: 0.5\n",
            "Probability of diamond given face card: 0.25\n",
            "Probability of spade or queen given face card: 0.5833333333333334\n"
          ]
        }
      ]
    },
    {
      "cell_type": "code",
      "source": [
        "from pgmpy.models import DiscreteBayesianNetwork\n",
        "from pgmpy.factors.discrete import TabularCPD\n",
        "from pgmpy.inference import VariableElimination\n",
        "\n",
        "def createBayesianNetwork():\n",
        "    model = DiscreteBayesianNetwork([('Fever', 'Disease'), ('Cough', 'Disease'), ('Fatigue', 'Disease')])\n",
        "\n",
        "    cpd_fever = TabularCPD(variable='Fever', variable_card=2, values=[[0.7], [0.3]])\n",
        "    cpd_cough = TabularCPD(variable='Cough', variable_card=2, values=[[0.6], [0.4]])\n",
        "    cpd_fatigue = TabularCPD(variable='Fatigue', variable_card=2, values=[[0.8], [0.2]])\n",
        "\n",
        "    cpd_disease = TabularCPD(variable='Disease', variable_card=2,\n",
        "                             values=[[0.9, 0.7, 0.6, 0.3, 0.8, 0.6, 0.5, 0.2],\n",
        "                                     [0.1, 0.3, 0.4, 0.7, 0.2, 0.4, 0.5, 0.8]],\n",
        "                             evidence=['Fever', 'Cough', 'Fatigue'],\n",
        "                             evidence_card=[2, 2, 2])\n",
        "\n",
        "    model.add_cpds(cpd_fever, cpd_cough, cpd_fatigue, cpd_disease)\n",
        "    model.check_model()\n",
        "\n",
        "    return model\n",
        "\n",
        "def inferDiseaseGivenSymptoms(model, symptoms):\n",
        "    inference = VariableElimination(model)\n",
        "    query = inference.query(variables=['Disease'], evidence=symptoms)\n",
        "    return query\n",
        "\n",
        "model = createBayesianNetwork()\n",
        "symptoms = {'Fever': 1, 'Cough': 1, 'Fatigue': 0}\n",
        "query = inferDiseaseGivenSymptoms(model, symptoms)\n",
        "print(f\"Probability of Disease given symptoms: {query}\")\n"
      ],
      "metadata": {
        "colab": {
          "base_uri": "https://localhost:8080/"
        },
        "id": "2VevKTWaLB5J",
        "outputId": "adeb7b93-ee63-4694-dc1c-d5bc7d1567a5"
      },
      "execution_count": 17,
      "outputs": [
        {
          "output_type": "stream",
          "name": "stdout",
          "text": [
            "Probability of Disease given symptoms: +------------+----------------+\n",
            "| Disease    |   phi(Disease) |\n",
            "+============+================+\n",
            "| Disease(0) |         0.5000 |\n",
            "+------------+----------------+\n",
            "| Disease(1) |         0.5000 |\n",
            "+------------+----------------+\n"
          ]
        }
      ]
    },
    {
      "cell_type": "code",
      "source": [
        "import numpy as np\n",
        "from pgmpy.models import BayesianNetwork\n",
        "from pgmpy.factors.discrete import TabularCPD\n",
        "from pgmpy.inference import VariableElimination\n",
        "\n",
        "def createWeatherModel():\n",
        "    model = BayesianNetwork([('Sunny', 'Weather'), ('Cloudy', 'Weather'), ('Rainy', 'Weather')])\n",
        "\n",
        "    cpd_sunny = TabularCPD(variable='Sunny', variable_card=3, values=[[0.7], [0.2], [0.1]])\n",
        "    cpd_cloudy = TabularCPD(variable='Cloudy', variable_card=3, values=[[0.3], [0.4], [0.3]])\n",
        "    cpd_rainy = TabularCPD(variable='Rainy', variable_card=3, values=[[0.2], [0.3], [0.5]])\n",
        "\n",
        "    model.add_cpds(cpd_sunny, cpd_cloudy, cpd_rainy)\n",
        "    model.check_model()\n",
        "\n",
        "    return model\n",
        "\n",
        "def simulateWeatherFor10Days():\n",
        "    weatherStates = ['Sunny', 'Cloudy', 'Rainy']\n",
        "    initialState = 0  # Start with Sunny\n",
        "    weatherHistory = [weatherStates[initialState]]\n",
        "\n",
        "    transitionMatrix = np.array([[0.7, 0.2, 0.1],\n",
        "                                 [0.3, 0.4, 0.3],\n",
        "                                 [0.2, 0.3, 0.5]])\n",
        "\n",
        "    for _ in range(9):\n",
        "        nextState = np.random.choice([0, 1, 2], p=transitionMatrix[initialState])\n",
        "        weatherHistory.append(weatherStates[nextState])\n",
        "        initialState = nextState\n",
        "\n",
        "    return weatherHistory\n",
        "\n",
        "def probabilityAtLeast3RainyDays(weatherHistory):\n",
        "    rainyDays = weatherHistory.count('Rainy')\n",
        "    return rainyDays >= 3\n",
        "\n",
        "simulatedWeather = simulateWeatherFor10Days()\n",
        "print(f\"Simulated Weather for 10 days: {simulatedWeather}\")\n",
        "print(f\"Probability of at least 3 rainy days: {probabilityAtLeast3RainyDays(simulatedWeather)}\")\n"
      ],
      "metadata": {
        "colab": {
          "base_uri": "https://localhost:8080/"
        },
        "id": "n-u3LTQmLFkH",
        "outputId": "50c413ad-e340-4a9b-8664-b78e8bfdb8b2"
      },
      "execution_count": 19,
      "outputs": [
        {
          "output_type": "stream",
          "name": "stdout",
          "text": [
            "Simulated Weather for 10 days: ['Sunny', 'Rainy', 'Rainy', 'Rainy', 'Rainy', 'Cloudy', 'Sunny', 'Rainy', 'Rainy', 'Sunny']\n",
            "Probability of at least 3 rainy days: True\n"
          ]
        }
      ]
    }
  ]
}